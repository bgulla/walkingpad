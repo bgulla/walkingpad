{
 "cells": [
  {
   "cell_type": "markdown",
   "metadata": {},
   "source": [
    "## Step 1 - load lib, setup logging"
   ]
  },
  {
   "cell_type": "code",
   "execution_count": 1,
   "metadata": {},
   "outputs": [],
   "source": [
    "import logging\n",
    "import coloredlogs\n",
    "import asyncio \n",
    "\n",
    "from ph4_walkingpad import pad\n",
    "from ph4_walkingpad.pad import Scanner, WalkingPad, WalkingPadCurStatus, WalkingPadLastStatus, Controller\n",
    "from ph4_walkingpad.utils import setup_logging\n",
    "\n",
    "log = setup_logging()\n",
    "pad.logger = log\n",
    "#coloredlogs.install(level=logging.INFO)"
   ]
  },
  {
   "cell_type": "markdown",
   "metadata": {
    "scrolled": false
   },
   "source": [
    "## Step 2 - scan devices"
   ]
  },
  {
   "cell_type": "code",
   "execution_count": 2,
   "metadata": {},
   "outputs": [
    {
     "name": "stdout",
     "output_type": "stream",
     "text": [
      "Scanning for peripherals...\n",
      "Scanning kwargs: {'service_uuids': ['0000180a-0000-1000-8000-00805f9b34fb', '00010203-0405-0607-0809-0a0b0c0d1912', '0000fe00-0000-1000-8000-00805f9b34fb']}\n",
      "Device: [ 0], DB0AA5CE-68F9-9FD0-1D41-8F4A7EFB51A7, WalkingPad, ['0000fe00-0000-1000-8000-00805f9b34fb']\n"
     ]
    }
   ],
   "source": [
    "scanner = Scanner()\n",
    "await scanner.scan()"
   ]
  },
  {
   "cell_type": "markdown",
   "metadata": {},
   "source": [
    "## Step 3 - connect to the WalkingPad"
   ]
  },
  {
   "cell_type": "code",
   "execution_count": 10,
   "metadata": {},
   "outputs": [
    {
     "name": "stdout",
     "output_type": "stream",
     "text": [
      "<class 'bleak.backends.device.BLEDevice'>\n"
     ]
    }
   ],
   "source": [
    "ctler = Controller()\n",
    "await ctler.run('DB0AA5CE-68F9-9FD0-1D41-8F4A7EFB51A7')  # set UUID from the scanning (OSX), or MAC address\n",
    "\n",
    "# Note that OSX 12+ does not allow using address directly, use scanner result instead\n",
    "#await ctler.run(scanner.walking_belt_candidates[0])"
   ]
  },
  {
   "cell_type": "markdown",
   "metadata": {},
   "source": [
    "## Start belt"
   ]
  },
  {
   "cell_type": "code",
   "execution_count": null,
   "metadata": {},
   "outputs": [
    {
     "name": "stdout",
     "output_type": "stream",
     "text": [
      "Msg: f8, a2, 00, 00, 01, 00, 00, 00, 00, 00, 00, 00, 00, 00, 01, 00, 81, 00, 25, fd\n",
      "Status: WalkingPadCurStatus(dist=0.0, time=0, steps=0, speed=0.0, state=0, mode=1, app_speed=0.03333333333333333, button=1, rest=0000)\n",
      "Msg: f8, a2, 09, 00, 01, 00, 00, 00, 00, 00, 00, 00, 00, 00, 01, 00, 03, 00, b0, fd\n",
      "Status: WalkingPadCurStatus(dist=0.0, time=0, steps=0, speed=0.0, state=9, mode=1, app_speed=0.03333333333333333, button=1, rest=0000)\n"
     ]
    }
   ],
   "source": [
    "await ctler.switch_mode(WalkingPad.MODE_MANUAL)\n",
    "await asyncio.sleep(1.0)\n",
    "await ctler.start_belt()"
   ]
  },
  {
   "cell_type": "markdown",
   "metadata": {},
   "source": [
    "## Fetch statistics"
   ]
  },
  {
   "cell_type": "code",
   "execution_count": null,
   "metadata": {},
   "outputs": [
    {
     "name": "stdout",
     "output_type": "stream",
     "text": [
      "Msg: f8, a2, 01, 14, 01, 00, 00, 08, 00, 00, 00, 00, 00, 05, 01, 00, 00, 00, c6, fd\n",
      "Status: WalkingPadCurStatus(dist=0.0, time=8, steps=5, speed=2.0, state=1, mode=1, app_speed=0.03333333333333333, button=1, rest=0000)\n",
      "Msg: f8, a2, 01, 14, 01, 00, 00, 09, 00, 00, 00, 00, 00, 06, 01, 00, 00, 00, c8, fd\n",
      "Status: WalkingPadCurStatus(dist=0.0, time=9, steps=6, speed=2.0, state=1, mode=1, app_speed=0.03333333333333333, button=1, rest=0000)\n",
      "Msg: f8, a2, 01, 14, 01, 00, 00, 0a, 00, 00, 00, 00, 00, 07, 01, 00, 00, 00, ca, fd\n",
      "Status: WalkingPadCurStatus(dist=0.0, time=10, steps=7, speed=2.0, state=1, mode=1, app_speed=0.03333333333333333, button=1, rest=0000)\n",
      "Msg: f8, a2, 01, 14, 01, 00, 00, 0b, 00, 00, 00, 00, 00, 09, 01, 00, 00, 00, cd, fd\n",
      "Status: WalkingPadCurStatus(dist=0.0, time=11, steps=9, speed=2.0, state=1, mode=1, app_speed=0.03333333333333333, button=1, rest=0000)\n",
      "Msg: f8, a2, 01, 14, 01, 00, 00, 0c, 00, 00, 00, 00, 00, 0a, 01, 00, 00, 00, cf, fd\n",
      "Status: WalkingPadCurStatus(dist=0.0, time=12, steps=10, speed=2.0, state=1, mode=1, app_speed=0.03333333333333333, button=1, rest=0000)\n"
     ]
    }
   ],
   "source": [
    "for i in range(5):\n",
    "    await ctler.ask_stats()\n",
    "    await asyncio.sleep(1.0)"
   ]
  },
  {
   "cell_type": "markdown",
   "metadata": {},
   "source": [
    "## Speed change\n"
   ]
  },
  {
   "cell_type": "code",
   "execution_count": null,
   "metadata": {},
   "outputs": [
    {
     "name": "stdout",
     "output_type": "stream",
     "text": [
      "Msg: f8, a2, 01, 14, 01, 00, 00, 15, 00, 00, 01, 00, 00, 16, 36, 00, 00, 00, 1a, fd\n",
      "Status: WalkingPadCurStatus(dist=0.01, time=21, steps=22, speed=2.0, state=1, mode=1, app_speed=1.8, button=1, rest=0000)\n"
     ]
    }
   ],
   "source": [
    "await ctler.change_speed(18)"
   ]
  },
  {
   "cell_type": "markdown",
   "metadata": {},
   "source": [
    "## Ask history record"
   ]
  },
  {
   "cell_type": "code",
   "execution_count": null,
   "metadata": {},
   "outputs": [
    {
     "name": "stdout",
     "output_type": "stream",
     "text": [
      "Msg: f8, a7, 00, 1c, 2d, 00, 11, 97, 00, 00, 8c, 00, 00, 05, 00, 00, b9, 01, e3, fd\n",
      "Record: WalkingPadLastStatus(dist=0.05, time=140, steps=185, rest=001c2d001197)\n"
     ]
    }
   ],
   "source": [
    "await ctler.ask_hist(0)"
   ]
  },
  {
   "cell_type": "markdown",
   "metadata": {},
   "source": [
    "## Stop belt"
   ]
  },
  {
   "cell_type": "code",
   "execution_count": null,
   "metadata": {},
   "outputs": [
    {
     "name": "stdout",
     "output_type": "stream",
     "text": [
      "Msg: f8, a2, 01, 12, 01, 00, 00, 40, 00, 00, 03, 00, 00, 46, 00, 00, 00, 00, 3f, fd\n",
      "Status: WalkingPadCurStatus(dist=0.03, time=64, steps=70, speed=1.8, state=1, mode=1, app_speed=0, button=1, rest=0000)\n",
      "Msg: f8, a2, 01, 09, 02, 00, 00, 41, 00, 00, 03, 00, 00, 48, 02, 00, 00, 00, 3c, fd\n",
      "Status: WalkingPadCurStatus(dist=0.03, time=65, steps=72, speed=0.9, state=1, mode=2, app_speed=0.06666666666666667, button=2, rest=0000)\n"
     ]
    }
   ],
   "source": [
    "# Stop belt\n",
    "await ctler.stop_belt()\n",
    "await asyncio.sleep(1.0)\n",
    "\n",
    "# Standby\n",
    "await ctler.switch_mode(WalkingPad.MODE_STANDBY)"
   ]
  },
  {
   "cell_type": "markdown",
   "metadata": {},
   "source": [
    "## Disconnect Bluetooth LE"
   ]
  },
  {
   "cell_type": "code",
   "execution_count": null,
   "metadata": {},
   "outputs": [],
   "source": [
    "# Call before terminating\n",
    "await ctler.disconnect()"
   ]
  }
 ],
 "metadata": {
  "kernelspec": {
   "display_name": "Python 3",
   "language": "python",
   "name": "python3"
  },
  "language_info": {
   "codemirror_mode": {
    "name": "ipython",
    "version": 3
   },
   "file_extension": ".py",
   "mimetype": "text/x-python",
   "name": "python",
   "nbconvert_exporter": "python",
   "pygments_lexer": "ipython3",
   "version": "3.9.9"
  }
 },
 "nbformat": 4,
 "nbformat_minor": 2
}
